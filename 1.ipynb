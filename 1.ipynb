{
  "metadata": {
    "kernelspec": {
      "name": "python",
      "display_name": "Python (Pyodide)",
      "language": "python"
    },
    "language_info": {
      "codemirror_mode": {
        "name": "python",
        "version": 3
      },
      "file_extension": ".py",
      "mimetype": "text/x-python",
      "name": "python",
      "nbconvert_exporter": "python",
      "pygments_lexer": "ipython3",
      "version": "3.8"
    }
  },
  "nbformat_minor": 5,
  "nbformat": 4,
  "cells": [
    {
      "cell_type": "code",
      "source": "import numpy as np\n\ndef f(x):\n    return x**4 + 2*x**3 + 2*x**2 + 6*x - 5\n\ndef df(x):\n    return 4*x**3 + 6*x**2 + 4*x + 6\n\ndef newton_method(x0, epsilon, max_iterations):\n    x = x0\n    iteration = 0\n    \n    while iteration < max_iterations:\n        if abs(df(x)) < epsilon:\n            print(\"Newton method: Derivative is too small.\")\n            return None\n        x_new = x - f(x) / df(x)\n        \n        if abs(x_new - x) < epsilon:\n            return x_new\n        \n        x = x_new\n        iteration += 1\n    \n    print(\"Newton method: Maximum iterations reached.\")\n    return None\n\ndef combined_method(x0, epsilon, max_iterations):\n    x = x0\n    iteration = 0\n    \n    while iteration < max_iterations:\n        if abs(df(x)) < epsilon:\n            print(\"Combined method: Derivative is too small.\")\n            return None\n        \n        dfx = df(x)\n        if dfx != 0:\n            x_new = x - f(x) / dfx\n        else:\n            x_new = x - f(x) * 0.001  # Small adjustment if derivative is zero\n        \n        if abs(x_new - x) < epsilon:\n            return x_new\n        \n        x = x_new\n        iteration += 1\n    \n    print(\"Combined method: Maximum iterations reached.\")\n    return None\n\nx0 = 1.0  # Початкове наближення\nepsilon = 1e-6  # Точність\nmax_iterations = 1000  # Максимальна кількість ітерацій\n\nresult_newton = newton_method(x0, epsilon, max_iterations)\nif result_newton is not None:\n    print(f\"Newton method: Approximate root is {result_newton:.6f}\")\n\nresult_combined = combined_method(x0, epsilon, max_iterations)\nif result_combined is not None:\n    print(f\"Combined method: Approximate root is {result_combined:.6f}\")\n",
      "metadata": {
        "trusted": true
      },
      "execution_count": 26,
      "outputs": [
        {
          "name": "stdout",
          "text": "Newton method: Approximate root is 0.610292\nCombined method: Approximate root is 0.610292\n",
          "output_type": "stream"
        }
      ],
      "id": "192996f6-b6f2-4c4a-a6df-4d60047e2d49"
    },
    {
      "cell_type": "code",
      "source": "",
      "metadata": {},
      "execution_count": null,
      "outputs": [],
      "id": "2b98f5ae-78c0-498c-aa0a-cc75d0c16499"
    }
  ]
}