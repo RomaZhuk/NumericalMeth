{
  "metadata": {
    "kernelspec": {
      "name": "python",
      "display_name": "Python (Pyodide)",
      "language": "python"
    },
    "language_info": {
      "codemirror_mode": {
        "name": "python",
        "version": 3
      },
      "file_extension": ".py",
      "mimetype": "text/x-python",
      "name": "python",
      "nbconvert_exporter": "python",
      "pygments_lexer": "ipython3",
      "version": "3.8"
    }
  },
  "nbformat_minor": 5,
  "nbformat": 4,
  "cells": [
    {
      "cell_type": "code",
      "source": "from scipy import integrate\nimport numpy as np\n\ndef f1(x):\n    return x / np.sqrt(0.5 * x + 2)\n\ndef left_rectangle_method(f, a, b, n):\n    h = (b - a) / n\n    sum_result = 0\n    for i in range(0, n):\n        sum_result += f(a + i * h)\n    return sum_result * h\n\ndef right_rectangle_method(f, a, b, n):\n    h = (b - a) / n\n    sum_result = 0\n    for i in range(1, n + 1):\n        sum_result += f(a + i * h)\n    return sum_result * h\n\ndef average_rectangle_method(f, a, b, n):\n    h = (b - a) / n\n    sum_result = 0\n    for i in range(0, n):\n        sum_result += f(a + i * h)\n    return sum_result * h\n\neps = 0.001\na = 1.4\nb = 2.1\n\n# Перевірка\nv, err = integrate.quad(f1, a, b)\n\n# Перевірка точності за правилом Рунге:\nn_value = 10\nif abs(left_rectangle_method(f1, a, b, 2 * n_value) - left_rectangle_method(f1, a, b, n_value)) / 3. <= eps:\n    print(\"left rectangle:\", round(left_rectangle_method(f1, a, b, n_value), 5))\n\nprint(\"right rectangle:\", round(right_rectangle_method(f1, a, b, n_value), 5))\nprint(\"left rectangle:\", round(left_rectangle_method(f1, a, b, n_value), 5))\nprint(\"average rectangle:\", round(average_rectangle_method(f1, a, b, n_value), 5))\nprint(\"Check for the rectangle method= \", round(v, 5))\n\n",
      "metadata": {
        "trusted": true
      },
      "execution_count": 19,
      "outputs": [
        {
          "name": "stdout",
          "text": "right rectangle: 0.73358\nleft rectangle: 0.70904\naverage rectangle: 0.70904\nCheck for the rectangle method=  0.72133\n",
          "output_type": "stream"
        }
      ],
      "id": "56dce6ee-7dc6-4110-a161-9c2942e750be"
    },
    {
      "cell_type": "code",
      "source": "#Метод Сімпсона\nfrom scipy import integrate\nimport numpy as np\n\n# Задаємо функцію, яку необхідно інтегрувати\ndef f(x):\n    return np.log(x**2 + 1) / x\n\n# Задаємо межі інтегрування та початкову кількість розбиттів\na = 0.8\nb = 1.6\nn = 8\n\n# Обчислюємо значення інтегралу методом Симпсона\ndef simpson_rule(f, a, b, n):\n    h = (b - a) / n\n    integr = f(a) + f(b)\n    for i in range(1, n):\n        k = a + i * h\n        if i % 2 == 0:\n            integr += 2 * f(k)\n        else:\n            integr += 4 * f(k)\n    integr *= h / 3\n    return integr\n\n# Обчислюємо значення інтегралу методом Сімпсона з точністю 0.001\nintegral1 = simpson_rule(f, a, b, n)\nn *= 2\nintegral2 = simpson_rule(f, a, b, n)\nwhile abs(integral2 - integral1) / 15 > 0.001:\n    integral1 = integral2\n    n *= 2\n    integral2 = simpson_rule(f, a, b, n)\n\n# Виводимо результат\nprint(\"Simpson method:\", round(integral2, 3))\nv, err = integrate.quad(f, a, b)\n# Перевірка\nprint(\"Check for the Simpson method= \", round(v, 3))\n\n",
      "metadata": {
        "trusted": true
      },
      "execution_count": 22,
      "outputs": [
        {
          "name": "stdout",
          "text": "Simpson method: 0.585\nCheck for the Simpson method=  0.585\n",
          "output_type": "stream"
        }
      ],
      "id": "72020fad-748e-44eb-965b-17ffd6fb7630"
    },
    {
      "cell_type": "code",
      "source": "#Метод трапецій\nfrom scipy import integrate\nimport numpy as np\n\n# Задаємо функцію, яку необхідно інтегрувати\ndef f(x):\n    return  x / np.sqrt(0.2*x**2 + 1)\n\n# Задаємо межі інтегрування та початкову кількість розбиттів\na = 1.3\nb = 2.5\nn = 20\n\n# Обчислюємо значення інтегралу методом трапецій\ndef trapezoidal_rule(f, a, b, n):\n    h = (b - a) / n\n    x = a\n    sum = 0\n    for i in range(1, n):\n        x += h\n        sum += 2 * f(x)\n    sum += f(b)\n    integral = h / 2 * sum\n    return integral\n\n# Обчислюємо значення інтегралу методом трапецій з точністю 0.001\n# Перевірка точності за правилом Рунге\nintegral1 = trapezoidal_rule(f, a, b, n)\nn *= 2\nintegral2 = trapezoidal_rule(f, a, b, n)\nwhile abs(integral2 - integral1) / 3 > 0.001:\n    integral1 = integral2\n    n *= 2\n    integral2 = trapezoidal_rule(f, a, b, n)\n\n# Виводимо результат\nprint(\"Trapezoidal method:\", round(integral2, 3))\n# Перевірка\nv, err = integrate.quad(f, a, b)\nprint(\"Check for the trapezoidal method =\", round(v, 5))\n",
      "metadata": {
        "trusted": true
      },
      "execution_count": 25,
      "outputs": [
        {
          "name": "stdout",
          "text": "Trapezoidal method: 1.714\nCheck for the trapezoidal method = 1.7164\n",
          "output_type": "stream"
        }
      ],
      "id": "d961566c-93c6-479a-9616-9ea0dde39862"
    },
    {
      "cell_type": "code",
      "source": "",
      "metadata": {},
      "execution_count": null,
      "outputs": [],
      "id": "d92fd72f-cda1-473b-b5d7-c92224d61e9c"
    }
  ]
}